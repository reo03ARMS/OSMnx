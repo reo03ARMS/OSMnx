{
 "cells": [
  {
   "cell_type": "code",
   "execution_count": null,
   "metadata": {},
   "outputs": [],
   "source": [
    "import pandas as pd\n",
    "\n",
    "df = pd.read_csv('../demo_michiten_location.csv')\n",
    "df.columns"
   ]
  },
  {
   "cell_type": "code",
   "execution_count": null,
   "metadata": {},
   "outputs": [],
   "source": [
    "sub_df=df[[\"id\",\"created_at\",\"updated_at\",\"time_target_lat\",\"time_target_lng\",\"time_target_time\"]]\n",
    "sub_df.head(5)"
   ]
  },
  {
   "cell_type": "code",
   "execution_count": null,
   "metadata": {},
   "outputs": [],
   "source": [
    "#緯度\n",
    "lat = sub_df.iloc[1][\"time_target_lat\"]\n",
    "lat"
   ]
  },
  {
   "cell_type": "code",
   "execution_count": null,
   "metadata": {},
   "outputs": [],
   "source": [
    "#経度\n",
    "lng = sub_df.iloc[1][\"time_target_lng\"]\n",
    "lng"
   ]
  },
  {
   "cell_type": "code",
   "execution_count": null,
   "metadata": {},
   "outputs": [],
   "source": [
    "import osmnx as ox\n",
    "import networkx as nx\n",
    "\n",
    "G=nx.Graph()\n",
    "#座標を指定し地図データをダウンロード\n",
    "G = ox.graph_from_point(center_point=(lat,lng), network_type='drive', dist=3000)"
   ]
  },
  {
   "cell_type": "code",
   "execution_count": null,
   "metadata": {},
   "outputs": [],
   "source": [
    "#グラフを可視化する\n",
    "ox.plot_graph(G,node_color='#87cefa',save=True,filepath='resultJPG/All_request.jpg')"
   ]
  },
  {
   "cell_type": "code",
   "execution_count": null,
   "metadata": {},
   "outputs": [],
   "source": [
    "nodes, edges = ox.graph_to_gdfs(G)\n",
    "nodes.to_csv(\"node_road.csv\")\n",
    "edges.to_csv(\"edges_road.csv\")\n",
    "\n",
    "# nodes: pointが交差点　信号なし\n",
    "# nodes: traffic_signals,point 信号あり交差点"
   ]
  },
  {
   "cell_type": "code",
   "execution_count": null,
   "metadata": {},
   "outputs": [],
   "source": [
    "#地図の表示\n",
    "import folium as fol\n",
    "\n",
    "map1 = fol.Map(\n",
    "    #初期位置の設定\n",
    "    location=[lat,lng],\n",
    "    \n",
    "    #初期表示の拡大設定\n",
    "    zoom_start=15,\n",
    "    \n",
    "    #地図のスタイル\n",
    "    tiles= \"OpenStreetMap\"\n",
    ")"
   ]
  },
  {
   "cell_type": "code",
   "execution_count": null,
   "metadata": {},
   "outputs": [],
   "source": [
    "node_df = pd.read_csv(\"./node_road.csv\")\n",
    "for i in range(len(node_df)):\n",
    "    fol.Circle(\n",
    "        radius=5,\n",
    "        location=[node_df.iloc[i][\"y\"],node_df.iloc[i][\"x\"]],\n",
    "        color=\"green\",\n",
    "        fill=True,\n",
    "    ).add_to(map1)\n"
   ]
  },
  {
   "cell_type": "code",
   "execution_count": null,
   "metadata": {},
   "outputs": [],
   "source": [
    "for i in range(len(sub_df)):\n",
    "    fol.Circle(\n",
    "        radius=5,\n",
    "        location=[sub_df.iloc[i][\"time_target_lat\"],sub_df.iloc[i][\"time_target_lng\"]],\n",
    "        color=\"blue\",\n",
    "        fill = True,\n",
    "        \n",
    "    ).add_to(map1)\n",
    "\n",
    "map1\n"
   ]
  },
  {
   "cell_type": "code",
   "execution_count": null,
   "metadata": {},
   "outputs": [],
   "source": []
  }
 ],
 "metadata": {
  "kernelspec": {
   "display_name": ".venv",
   "language": "python",
   "name": "python3"
  },
  "language_info": {
   "codemirror_mode": {
    "name": "ipython",
    "version": 3
   },
   "file_extension": ".py",
   "mimetype": "text/x-python",
   "name": "python",
   "nbconvert_exporter": "python",
   "pygments_lexer": "ipython3",
   "version": "3.10.8"
  },
  "orig_nbformat": 4,
  "vscode": {
   "interpreter": {
    "hash": "cd718124a71d38e7ee5d62df7b2103f86576b6411b4685b0c422b671cdf5eac1"
   }
  }
 },
 "nbformat": 4,
 "nbformat_minor": 2
}
